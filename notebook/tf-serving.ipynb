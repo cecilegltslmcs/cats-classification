{
 "cells": [
  {
   "cell_type": "code",
   "execution_count": 3,
   "metadata": {},
   "outputs": [
    {
     "name": "stderr",
     "output_type": "stream",
     "text": [
      "2023-12-19 13:55:52.231313: I external/local_tsl/tsl/cuda/cudart_stub.cc:31] Could not find cuda drivers on your machine, GPU will not be used.\n",
      "2023-12-19 13:55:52.653769: E external/local_xla/xla/stream_executor/cuda/cuda_dnn.cc:9261] Unable to register cuDNN factory: Attempting to register factory for plugin cuDNN when one has already been registered\n",
      "2023-12-19 13:55:52.654178: E external/local_xla/xla/stream_executor/cuda/cuda_fft.cc:607] Unable to register cuFFT factory: Attempting to register factory for plugin cuFFT when one has already been registered\n",
      "2023-12-19 13:55:52.736504: E external/local_xla/xla/stream_executor/cuda/cuda_blas.cc:1515] Unable to register cuBLAS factory: Attempting to register factory for plugin cuBLAS when one has already been registered\n",
      "2023-12-19 13:55:52.953634: I external/local_tsl/tsl/cuda/cudart_stub.cc:31] Could not find cuda drivers on your machine, GPU will not be used.\n",
      "2023-12-19 13:55:52.962683: I tensorflow/core/platform/cpu_feature_guard.cc:182] This TensorFlow binary is optimized to use available CPU instructions in performance-critical operations.\n",
      "To enable the following instructions: AVX2 FMA, in other operations, rebuild TensorFlow with the appropriate compiler flags.\n",
      "2023-12-19 13:55:54.966817: W tensorflow/compiler/tf2tensorrt/utils/py_utils.cc:38] TF-TRT Warning: Could not find TensorRT\n"
     ]
    }
   ],
   "source": [
    "import grpc\n",
    "import tensorflow as tf\n",
    "from tensorflow_serving.apis import predict_pb2\n",
    "from tensorflow_serving.apis import prediction_service_pb2_grpc\n",
    "from keras_image_helper import create_preprocessor"
   ]
  },
  {
   "cell_type": "code",
   "execution_count": 4,
   "metadata": {},
   "outputs": [],
   "source": [
    "host = \"localhost:8500\"\n",
    "channel = grpc.insecure_channel(host)\n",
    "stub = prediction_service_pb2_grpc.PredictionServiceStub(channel)"
   ]
  },
  {
   "cell_type": "code",
   "execution_count": 5,
   "metadata": {},
   "outputs": [],
   "source": [
    "preprocessor = create_preprocessor(\"resnet50\", target_size=(224, 224))"
   ]
  },
  {
   "cell_type": "code",
   "execution_count": 6,
   "metadata": {},
   "outputs": [],
   "source": [
    "path = \"../illustrations/guess-me.jpg\"\n",
    "x = preprocessor.from_path(path)"
   ]
  },
  {
   "cell_type": "code",
   "execution_count": 7,
   "metadata": {},
   "outputs": [],
   "source": [
    "def np_to_protobuf(data):\n",
    "    return tf.make_tensor_proto(data, shape=data.shape)"
   ]
  },
  {
   "cell_type": "code",
   "execution_count": 8,
   "metadata": {},
   "outputs": [],
   "source": [
    "pb_request = predict_pb2.PredictRequest()\n",
    "pb_request.model_spec.name = \"cats-classifier\"\n",
    "pb_request.model_spec.signature_name = \"serving_default\"\n",
    "\n",
    "pb_request.inputs[\"input_6\"].CopyFrom(np_to_protobuf(x))"
   ]
  },
  {
   "cell_type": "code",
   "execution_count": 9,
   "metadata": {},
   "outputs": [],
   "source": [
    "pb_response = stub.Predict(pb_request, timeout=20.0)"
   ]
  },
  {
   "cell_type": "code",
   "execution_count": 10,
   "metadata": {},
   "outputs": [
    {
     "data": {
      "text/plain": [
       "model_spec {\n",
       "  name: \"cats-classifier\"\n",
       "  version {\n",
       "    value: 1\n",
       "  }\n",
       "  signature_name: \"serving_default\"\n",
       "}\n",
       "outputs {\n",
       "  key: \"dense_5\"\n",
       "  value {\n",
       "    dtype: DT_FLOAT\n",
       "    tensor_shape {\n",
       "      dim {\n",
       "        size: 1\n",
       "      }\n",
       "      dim {\n",
       "        size: 20\n",
       "      }\n",
       "    }\n",
       "    float_val: 6.78086254e-09\n",
       "    float_val: 6.06849471e-06\n",
       "    float_val: 0.0137340333\n",
       "    float_val: 7.3563956e-07\n",
       "    float_val: 7.85281354e-11\n",
       "    float_val: 4.44484662e-08\n",
       "    float_val: 5.92079274e-10\n",
       "    float_val: 0.000760414638\n",
       "    float_val: 6.2603851e-09\n",
       "    float_val: 0.0597831644\n",
       "    float_val: 1.00058526e-06\n",
       "    float_val: 3.46500087e-07\n",
       "    float_val: 2.5057156e-07\n",
       "    float_val: 4.04635975e-05\n",
       "    float_val: 0.000111605688\n",
       "    float_val: 6.33200647e-09\n",
       "    float_val: 0.925525248\n",
       "    float_val: 1.71383803e-07\n",
       "    float_val: 4.12557974e-11\n",
       "    float_val: 3.64106563e-05\n",
       "  }\n",
       "}"
      ]
     },
     "execution_count": 10,
     "metadata": {},
     "output_type": "execute_result"
    }
   ],
   "source": [
    "pb_response"
   ]
  },
  {
   "cell_type": "code",
   "execution_count": 11,
   "metadata": {},
   "outputs": [],
   "source": [
    "preds = pb_response.outputs[\"dense_5\"].float_val"
   ]
  },
  {
   "cell_type": "code",
   "execution_count": 12,
   "metadata": {},
   "outputs": [
    {
     "data": {
      "text/plain": [
       "{'Ragdoll': 6.780862538136034e-09,\n",
       " 'Bombay': 6.068494712963002e-06,\n",
       " 'American Curl': 0.013734033331274986,\n",
       " 'Birman': 7.356395599344978e-07,\n",
       " 'Egyptian Mau': 7.852813538322678e-11,\n",
       " 'Bengal': 4.444846624096499e-08,\n",
       " 'Siamese': 5.920792744973369e-10,\n",
       " 'Maine Coon': 0.0007604146376252174,\n",
       " 'American Bobtail': 6.260385099210453e-09,\n",
       " 'Turkish Angora': 0.05978316441178322,\n",
       " 'Russian Blue': 1.0005852573158336e-06,\n",
       " 'British Shorthair': 3.4650008728931425e-07,\n",
       " 'Persian': 2.505715599454561e-07,\n",
       " 'Abyssinian': 4.0463597542839125e-05,\n",
       " 'Norwegian Forest': 0.00011160568828927353,\n",
       " 'Manx': 6.332006474707441e-09,\n",
       " 'Scottish Fold': 0.9255252480506897,\n",
       " 'American Shorthair': 1.7138380314918322e-07,\n",
       " 'Exotic Shorthair': 4.1255797389450066e-11,\n",
       " 'Sphynx': 3.64106563210953e-05}"
      ]
     },
     "execution_count": 12,
     "metadata": {},
     "output_type": "execute_result"
    }
   ],
   "source": [
    "classes = [\n",
    "    \"Ragdoll\",\n",
    "    \"Bombay\",\n",
    "    \"American Curl\",\n",
    "    \"Birman\",\n",
    "    \"Egyptian Mau\",\n",
    "    \"Bengal\",\n",
    "    \"Siamese\",\n",
    "    \"Maine Coon\",\n",
    "    \"American Bobtail\",\n",
    "    \"Turkish Angora\",\n",
    "    \"Russian Blue\",\n",
    "    \"British Shorthair\",\n",
    "    \"Persian\",\n",
    "    \"Abyssinian\",\n",
    "    \"Norwegian Forest\",\n",
    "    \"Manx\",\n",
    "    \"Scottish Fold\",\n",
    "    \"American Shorthair\",\n",
    "    \"Exotic Shorthair\",\n",
    "    \"Sphynx\",\n",
    "]\n",
    "\n",
    "dict(zip(classes, preds))"
   ]
  }
 ],
 "metadata": {
  "kernelspec": {
   "display_name": "myenv",
   "language": "python",
   "name": "python3"
  },
  "language_info": {
   "codemirror_mode": {
    "name": "ipython",
    "version": 3
   },
   "file_extension": ".py",
   "mimetype": "text/x-python",
   "name": "python",
   "nbconvert_exporter": "python",
   "pygments_lexer": "ipython3",
   "version": "3.11.2"
  }
 },
 "nbformat": 4,
 "nbformat_minor": 2
}
