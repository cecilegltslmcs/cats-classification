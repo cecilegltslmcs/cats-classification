{
 "cells": [
  {
   "cell_type": "code",
   "execution_count": 1,
   "metadata": {},
   "outputs": [
    {
     "name": "stderr",
     "output_type": "stream",
     "text": [
      "2023-12-21 18:05:11.052724: I external/local_tsl/tsl/cuda/cudart_stub.cc:31] Could not find cuda drivers on your machine, GPU will not be used.\n",
      "2023-12-21 18:05:11.214307: E external/local_xla/xla/stream_executor/cuda/cuda_dnn.cc:9261] Unable to register cuDNN factory: Attempting to register factory for plugin cuDNN when one has already been registered\n",
      "2023-12-21 18:05:11.214345: E external/local_xla/xla/stream_executor/cuda/cuda_fft.cc:607] Unable to register cuFFT factory: Attempting to register factory for plugin cuFFT when one has already been registered\n",
      "2023-12-21 18:05:11.219599: E external/local_xla/xla/stream_executor/cuda/cuda_blas.cc:1515] Unable to register cuBLAS factory: Attempting to register factory for plugin cuBLAS when one has already been registered\n",
      "2023-12-21 18:05:11.243452: I external/local_tsl/tsl/cuda/cudart_stub.cc:31] Could not find cuda drivers on your machine, GPU will not be used.\n",
      "2023-12-21 18:05:11.244588: I tensorflow/core/platform/cpu_feature_guard.cc:182] This TensorFlow binary is optimized to use available CPU instructions in performance-critical operations.\n",
      "To enable the following instructions: AVX2 FMA, in other operations, rebuild TensorFlow with the appropriate compiler flags.\n",
      "2023-12-21 18:05:12.517652: W tensorflow/compiler/tf2tensorrt/utils/py_utils.cc:38] TF-TRT Warning: Could not find TensorRT\n"
     ]
    }
   ],
   "source": [
    "import grpc\n",
    "import tensorflow as tf\n",
    "from tensorflow_serving.apis import predict_pb2\n",
    "from tensorflow_serving.apis import prediction_service_pb2_grpc\n",
    "from keras_image_helper import create_preprocessor"
   ]
  },
  {
   "cell_type": "code",
   "execution_count": 2,
   "metadata": {},
   "outputs": [],
   "source": [
    "host = \"localhost:8500\"\n",
    "channel = grpc.insecure_channel(host)\n",
    "stub = prediction_service_pb2_grpc.PredictionServiceStub(channel)"
   ]
  },
  {
   "cell_type": "code",
   "execution_count": 3,
   "metadata": {},
   "outputs": [],
   "source": [
    "preprocessor = create_preprocessor(\"resnet50\", target_size=(224, 224))"
   ]
  },
  {
   "cell_type": "code",
   "execution_count": 4,
   "metadata": {},
   "outputs": [],
   "source": [
    "path = \"../illustrations/guess-me.jpg\"\n",
    "x = preprocessor.from_path(path)"
   ]
  },
  {
   "cell_type": "code",
   "execution_count": 5,
   "metadata": {},
   "outputs": [],
   "source": [
    "def np_to_protobuf(data):\n",
    "    return tf.make_tensor_proto(data, shape=data.shape)"
   ]
  },
  {
   "cell_type": "code",
   "execution_count": 8,
   "metadata": {},
   "outputs": [],
   "source": [
    "pb_request = predict_pb2.PredictRequest()\n",
    "pb_request.model_spec.name = \"cats-classifier\"\n",
    "pb_request.model_spec.signature_name = \"serving_default\"\n",
    "\n",
    "pb_request.inputs[\"input_2\"].CopyFrom(np_to_protobuf(x))"
   ]
  },
  {
   "cell_type": "code",
   "execution_count": 9,
   "metadata": {},
   "outputs": [],
   "source": [
    "pb_response = stub.Predict(pb_request, timeout=20.0)"
   ]
  },
  {
   "cell_type": "code",
   "execution_count": 10,
   "metadata": {},
   "outputs": [
    {
     "data": {
      "text/plain": [
       "model_spec {\n",
       "  name: \"cats-classifier\"\n",
       "  version {\n",
       "    value: 1\n",
       "  }\n",
       "  signature_name: \"serving_default\"\n",
       "}\n",
       "outputs {\n",
       "  key: \"dense_1\"\n",
       "  value {\n",
       "    dtype: DT_FLOAT\n",
       "    tensor_shape {\n",
       "      dim {\n",
       "        size: 1\n",
       "      }\n",
       "      dim {\n",
       "        size: 20\n",
       "      }\n",
       "    }\n",
       "    float_val: 7.63123661e-11\n",
       "    float_val: 4.39124115e-09\n",
       "    float_val: 0.00193864899\n",
       "    float_val: 2.18959837e-08\n",
       "    float_val: 8.26274726e-12\n",
       "    float_val: 7.78653364e-10\n",
       "    float_val: 6.19444036e-12\n",
       "    float_val: 0.000379952922\n",
       "    float_val: 8.32395264e-11\n",
       "    float_val: 0.0100553529\n",
       "    float_val: 2.49862486e-09\n",
       "    float_val: 1.52507184e-07\n",
       "    float_val: 3.27335812e-07\n",
       "    float_val: 1.79782049e-07\n",
       "    float_val: 3.8991567e-07\n",
       "    float_val: 3.28332533e-07\n",
       "    float_val: 0.987624407\n",
       "    float_val: 8.4118426e-08\n",
       "    float_val: 1.53273311e-10\n",
       "    float_val: 1.45717507e-07\n",
       "  }\n",
       "}"
      ]
     },
     "execution_count": 10,
     "metadata": {},
     "output_type": "execute_result"
    }
   ],
   "source": [
    "pb_response"
   ]
  },
  {
   "cell_type": "code",
   "execution_count": 11,
   "metadata": {},
   "outputs": [],
   "source": [
    "preds = pb_response.outputs[\"dense_1\"].float_val"
   ]
  },
  {
   "cell_type": "code",
   "execution_count": 12,
   "metadata": {},
   "outputs": [
    {
     "data": {
      "text/plain": [
       "{'Ragdoll': 7.63123661484677e-11,\n",
       " 'Bombay': 4.39124114848255e-09,\n",
       " 'American Curl': 0.0019386489875614643,\n",
       " 'Birman': 2.18959836928434e-08,\n",
       " 'Egyptian Mau': 8.26274725723719e-12,\n",
       " 'Bengal': 7.786533640086191e-10,\n",
       " 'Siamese': 6.1944403599578646e-12,\n",
       " 'Maine Coon': 0.0003799529222305864,\n",
       " 'American Bobtail': 8.323952638278342e-11,\n",
       " 'Turkish Angora': 0.010055352933704853,\n",
       " 'Russian Blue': 2.498624862568022e-09,\n",
       " 'British Shorthair': 1.5250718377046724e-07,\n",
       " 'Persian': 3.2733581178945315e-07,\n",
       " 'Abyssinian': 1.79782048803645e-07,\n",
       " 'Norwegian Forest': 3.899156695297279e-07,\n",
       " 'Manx': 3.28332532717468e-07,\n",
       " 'Scottish Fold': 0.9876244068145752,\n",
       " 'American Shorthair': 8.411842600253294e-08,\n",
       " 'Exotic Shorthair': 1.5327331071013361e-10,\n",
       " 'Sphynx': 1.457175073937833e-07}"
      ]
     },
     "execution_count": 12,
     "metadata": {},
     "output_type": "execute_result"
    }
   ],
   "source": [
    "classes = [\n",
    "    \"Ragdoll\",\n",
    "    \"Bombay\",\n",
    "    \"American Curl\",\n",
    "    \"Birman\",\n",
    "    \"Egyptian Mau\",\n",
    "    \"Bengal\",\n",
    "    \"Siamese\",\n",
    "    \"Maine Coon\",\n",
    "    \"American Bobtail\",\n",
    "    \"Turkish Angora\",\n",
    "    \"Russian Blue\",\n",
    "    \"British Shorthair\",\n",
    "    \"Persian\",\n",
    "    \"Abyssinian\",\n",
    "    \"Norwegian Forest\",\n",
    "    \"Manx\",\n",
    "    \"Scottish Fold\",\n",
    "    \"American Shorthair\",\n",
    "    \"Exotic Shorthair\",\n",
    "    \"Sphynx\",\n",
    "]\n",
    "\n",
    "dict(zip(classes, preds))"
   ]
  }
 ],
 "metadata": {
  "kernelspec": {
   "display_name": "myenv",
   "language": "python",
   "name": "python3"
  },
  "language_info": {
   "codemirror_mode": {
    "name": "ipython",
    "version": 3
   },
   "file_extension": ".py",
   "mimetype": "text/x-python",
   "name": "python",
   "nbconvert_exporter": "python",
   "pygments_lexer": "ipython3",
   "version": "3.11.2"
  }
 },
 "nbformat": 4,
 "nbformat_minor": 2
}
