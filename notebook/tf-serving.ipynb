{
 "cells": [
  {
   "cell_type": "code",
   "execution_count": 1,
   "metadata": {},
   "outputs": [
    {
     "name": "stdout",
     "output_type": "stream",
     "text": [
      "Collecting grpcio==1.42.0\n",
      "  Using cached grpcio-1.42.0.tar.gz (21.3 MB)\n",
      "  Preparing metadata (setup.py) ... \u001b[?25ldone\n",
      "\u001b[?25hCollecting tensorflow-serving-api==2.7.0\n",
      "  Using cached tensorflow_serving_api-2.7.0-py2.py3-none-any.whl (37 kB)\n",
      "Requirement already satisfied: six>=1.5.2 in /home/cecile/Documents/cats-classification/myenv/lib/python3.11/site-packages (from grpcio==1.42.0) (1.16.0)\n",
      "Requirement already satisfied: protobuf>=3.6.0 in /home/cecile/Documents/cats-classification/myenv/lib/python3.11/site-packages (from tensorflow-serving-api==2.7.0) (4.23.4)\n",
      "Requirement already satisfied: tensorflow<3,>=2.7.0 in /home/cecile/Documents/cats-classification/myenv/lib/python3.11/site-packages (from tensorflow-serving-api==2.7.0) (2.15.0.post1)\n",
      "Requirement already satisfied: absl-py>=1.0.0 in /home/cecile/Documents/cats-classification/myenv/lib/python3.11/site-packages (from tensorflow<3,>=2.7.0->tensorflow-serving-api==2.7.0) (2.0.0)\n",
      "Requirement already satisfied: astunparse>=1.6.0 in /home/cecile/Documents/cats-classification/myenv/lib/python3.11/site-packages (from tensorflow<3,>=2.7.0->tensorflow-serving-api==2.7.0) (1.6.3)\n",
      "Requirement already satisfied: flatbuffers>=23.5.26 in /home/cecile/Documents/cats-classification/myenv/lib/python3.11/site-packages (from tensorflow<3,>=2.7.0->tensorflow-serving-api==2.7.0) (23.5.26)\n",
      "Requirement already satisfied: gast!=0.5.0,!=0.5.1,!=0.5.2,>=0.2.1 in /home/cecile/Documents/cats-classification/myenv/lib/python3.11/site-packages (from tensorflow<3,>=2.7.0->tensorflow-serving-api==2.7.0) (0.5.4)\n",
      "Requirement already satisfied: google-pasta>=0.1.1 in /home/cecile/Documents/cats-classification/myenv/lib/python3.11/site-packages (from tensorflow<3,>=2.7.0->tensorflow-serving-api==2.7.0) (0.2.0)\n",
      "Requirement already satisfied: h5py>=2.9.0 in /home/cecile/Documents/cats-classification/myenv/lib/python3.11/site-packages (from tensorflow<3,>=2.7.0->tensorflow-serving-api==2.7.0) (3.10.0)\n",
      "Requirement already satisfied: libclang>=13.0.0 in /home/cecile/Documents/cats-classification/myenv/lib/python3.11/site-packages (from tensorflow<3,>=2.7.0->tensorflow-serving-api==2.7.0) (16.0.6)\n",
      "Requirement already satisfied: ml-dtypes~=0.2.0 in /home/cecile/Documents/cats-classification/myenv/lib/python3.11/site-packages (from tensorflow<3,>=2.7.0->tensorflow-serving-api==2.7.0) (0.2.0)\n",
      "Requirement already satisfied: numpy<2.0.0,>=1.23.5 in /home/cecile/Documents/cats-classification/myenv/lib/python3.11/site-packages (from tensorflow<3,>=2.7.0->tensorflow-serving-api==2.7.0) (1.26.2)\n",
      "Requirement already satisfied: opt-einsum>=2.3.2 in /home/cecile/Documents/cats-classification/myenv/lib/python3.11/site-packages (from tensorflow<3,>=2.7.0->tensorflow-serving-api==2.7.0) (3.3.0)\n",
      "Requirement already satisfied: packaging in /home/cecile/Documents/cats-classification/myenv/lib/python3.11/site-packages (from tensorflow<3,>=2.7.0->tensorflow-serving-api==2.7.0) (23.2)\n",
      "Requirement already satisfied: setuptools in /home/cecile/Documents/cats-classification/myenv/lib/python3.11/site-packages (from tensorflow<3,>=2.7.0->tensorflow-serving-api==2.7.0) (66.1.1)\n",
      "Requirement already satisfied: termcolor>=1.1.0 in /home/cecile/Documents/cats-classification/myenv/lib/python3.11/site-packages (from tensorflow<3,>=2.7.0->tensorflow-serving-api==2.7.0) (2.4.0)\n",
      "Requirement already satisfied: typing-extensions>=3.6.6 in /home/cecile/Documents/cats-classification/myenv/lib/python3.11/site-packages (from tensorflow<3,>=2.7.0->tensorflow-serving-api==2.7.0) (4.9.0)\n",
      "Requirement already satisfied: wrapt<1.15,>=1.11.0 in /home/cecile/Documents/cats-classification/myenv/lib/python3.11/site-packages (from tensorflow<3,>=2.7.0->tensorflow-serving-api==2.7.0) (1.14.1)\n",
      "Requirement already satisfied: tensorflow-io-gcs-filesystem>=0.23.1 in /home/cecile/Documents/cats-classification/myenv/lib/python3.11/site-packages (from tensorflow<3,>=2.7.0->tensorflow-serving-api==2.7.0) (0.35.0)\n",
      "Requirement already satisfied: tensorboard<2.16,>=2.15 in /home/cecile/Documents/cats-classification/myenv/lib/python3.11/site-packages (from tensorflow<3,>=2.7.0->tensorflow-serving-api==2.7.0) (2.15.1)\n",
      "Requirement already satisfied: tensorflow-estimator<2.16,>=2.15.0 in /home/cecile/Documents/cats-classification/myenv/lib/python3.11/site-packages (from tensorflow<3,>=2.7.0->tensorflow-serving-api==2.7.0) (2.15.0)\n",
      "Requirement already satisfied: keras<2.16,>=2.15.0 in /home/cecile/Documents/cats-classification/myenv/lib/python3.11/site-packages (from tensorflow<3,>=2.7.0->tensorflow-serving-api==2.7.0) (2.15.0)\n",
      "Requirement already satisfied: wheel<1.0,>=0.23.0 in /home/cecile/Documents/cats-classification/myenv/lib/python3.11/site-packages (from astunparse>=1.6.0->tensorflow<3,>=2.7.0->tensorflow-serving-api==2.7.0) (0.42.0)\n",
      "Collecting tensorboard<2.16,>=2.15\n",
      "  Using cached tensorboard-2.15.0-py3-none-any.whl (5.6 MB)\n",
      "INFO: pip is looking at multiple versions of opt-einsum to determine which version is compatible with other requirements. This could take a while.\n",
      "Collecting opt-einsum>=2.3.2\n",
      "  Using cached opt_einsum-3.3.0-py3-none-any.whl (65 kB)\n",
      "INFO: pip is looking at multiple versions of numpy to determine which version is compatible with other requirements. This could take a while.\n",
      "Collecting numpy<2.0.0,>=1.23.5\n",
      "  Using cached numpy-1.26.2-cp311-cp311-manylinux_2_17_x86_64.manylinux2014_x86_64.whl (18.2 MB)\n",
      "INFO: pip is looking at multiple versions of ml-dtypes to determine which version is compatible with other requirements. This could take a while.\n",
      "Collecting ml-dtypes~=0.2.0\n",
      "  Using cached ml_dtypes-0.2.0-cp311-cp311-manylinux_2_17_x86_64.manylinux2014_x86_64.whl (1.0 MB)\n",
      "INFO: pip is looking at multiple versions of libclang to determine which version is compatible with other requirements. This could take a while.\n",
      "Collecting libclang>=13.0.0\n",
      "  Using cached libclang-16.0.6-py2.py3-none-manylinux2010_x86_64.whl (22.9 MB)\n",
      "INFO: pip is looking at multiple versions of keras to determine which version is compatible with other requirements. This could take a while.\n",
      "Collecting keras<2.16,>=2.15.0\n",
      "  Using cached keras-2.15.0-py3-none-any.whl (1.7 MB)\n",
      "INFO: pip is looking at multiple versions of h5py to determine which version is compatible with other requirements. This could take a while.\n",
      "Collecting h5py>=2.9.0\n",
      "  Using cached h5py-3.10.0-cp311-cp311-manylinux_2_17_x86_64.manylinux2014_x86_64.whl (4.8 MB)\n",
      "INFO: pip is looking at multiple versions of google-pasta to determine which version is compatible with other requirements. This could take a while.\n",
      "Collecting google-pasta>=0.1.1\n",
      "  Using cached google_pasta-0.2.0-py3-none-any.whl (57 kB)\n",
      "INFO: pip is looking at multiple versions of gast to determine which version is compatible with other requirements. This could take a while.\n",
      "Collecting gast!=0.5.0,!=0.5.1,!=0.5.2,>=0.2.1\n",
      "  Using cached gast-0.5.4-py3-none-any.whl (19 kB)\n",
      "INFO: pip is looking at multiple versions of flatbuffers to determine which version is compatible with other requirements. This could take a while.\n",
      "Collecting flatbuffers>=23.5.26\n",
      "  Using cached flatbuffers-23.5.26-py2.py3-none-any.whl (26 kB)\n",
      "INFO: pip is looking at multiple versions of astunparse to determine which version is compatible with other requirements. This could take a while.\n",
      "Collecting astunparse>=1.6.0\n",
      "  Using cached astunparse-1.6.3-py2.py3-none-any.whl (12 kB)\n",
      "INFO: pip is looking at multiple versions of absl-py to determine which version is compatible with other requirements. This could take a while.\n",
      "Collecting absl-py>=1.0.0\n",
      "  Using cached absl_py-2.0.0-py3-none-any.whl (130 kB)\n",
      "INFO: pip is looking at multiple versions of tensorflow to determine which version is compatible with other requirements. This could take a while.\n",
      "Collecting tensorflow<3,>=2.7.0\n",
      "  Using cached tensorflow-2.15.0.post1-cp311-cp311-manylinux_2_17_x86_64.manylinux2014_x86_64.whl (475.3 MB)\n",
      "  Using cached tensorflow-2.15.0-cp311-cp311-manylinux_2_17_x86_64.manylinux2014_x86_64.whl (475.3 MB)\n",
      "  Using cached tensorflow-2.14.1-cp311-cp311-manylinux_2_17_x86_64.manylinux2014_x86_64.whl (489.9 MB)\n",
      "Collecting tensorboard<2.15,>=2.14\n",
      "  Using cached tensorboard-2.14.1-py3-none-any.whl (5.5 MB)\n",
      "Collecting tensorflow-estimator<2.15,>=2.14.0\n",
      "  Using cached tensorflow_estimator-2.14.0-py2.py3-none-any.whl (440 kB)\n",
      "Collecting keras<2.15,>=2.14.0\n",
      "  Using cached keras-2.14.0-py3-none-any.whl (1.7 MB)\n",
      "Collecting tensorboard<2.15,>=2.14\n",
      "  Using cached tensorboard-2.14.0-py3-none-any.whl (5.5 MB)\n",
      "Collecting tensorflow<3,>=2.7.0\n",
      "  Using cached tensorflow-2.14.0-cp311-cp311-manylinux_2_17_x86_64.manylinux2014_x86_64.whl (489.9 MB)\n",
      "  Using cached tensorflow-2.13.1-cp311-cp311-manylinux_2_17_x86_64.manylinux2014_x86_64.whl (479.7 MB)\n",
      "Collecting gast<=0.4.0,>=0.2.1\n",
      "  Using cached gast-0.4.0-py3-none-any.whl (9.8 kB)\n",
      "Collecting keras<2.14,>=2.13.1\n",
      "  Using cached keras-2.13.1-py3-none-any.whl (1.7 MB)\n",
      "Collecting numpy<=1.24.3,>=1.22\n",
      "  Using cached numpy-1.24.3-cp311-cp311-manylinux_2_17_x86_64.manylinux2014_x86_64.whl (17.3 MB)\n",
      "Collecting tensorboard<2.14,>=2.13\n",
      "  Using cached tensorboard-2.13.0-py3-none-any.whl (5.6 MB)\n",
      "Collecting tensorflow-estimator<2.14,>=2.13.0\n",
      "  Using cached tensorflow_estimator-2.13.0-py2.py3-none-any.whl (440 kB)\n",
      "Collecting typing-extensions<4.6.0,>=3.6.6\n",
      "  Using cached typing_extensions-4.5.0-py3-none-any.whl (27 kB)\n",
      "Collecting tensorflow<3,>=2.7.0\n",
      "  Using cached tensorflow-2.13.0-cp311-cp311-manylinux_2_17_x86_64.manylinux2014_x86_64.whl (524.2 MB)\n",
      "  Using cached tensorflow-2.12.1-cp311-cp311-manylinux_2_17_x86_64.manylinux2014_x86_64.whl (585.9 MB)\n",
      "Collecting jax>=0.3.15\n",
      "  Using cached jax-0.4.23-py3-none-any.whl (1.7 MB)\n",
      "Collecting keras<2.13,>=2.12.0\n",
      "  Using cached keras-2.12.0-py2.py3-none-any.whl (1.7 MB)\n",
      "Collecting tensorboard<2.13,>=2.12\n",
      "  Using cached tensorboard-2.12.3-py3-none-any.whl (5.6 MB)\n",
      "Collecting tensorflow-estimator<2.13,>=2.12.0\n",
      "  Using cached tensorflow_estimator-2.12.0-py2.py3-none-any.whl (440 kB)\n",
      "Collecting tensorboard<2.13,>=2.12\n",
      "  Using cached tensorboard-2.12.2-py3-none-any.whl (5.6 MB)\n",
      "  Using cached tensorboard-2.12.1-py3-none-any.whl (5.6 MB)\n",
      "  Using cached tensorboard-2.12.0-py3-none-any.whl (5.6 MB)\n",
      "INFO: pip is looking at multiple versions of tensorflow to determine which version is compatible with other requirements. This could take a while.\n",
      "Collecting tensorflow<3,>=2.7.0\n",
      "  Using cached tensorflow-2.12.0-cp311-cp311-manylinux_2_17_x86_64.manylinux2014_x86_64.whl (586.0 MB)\n",
      "Collecting numpy<1.24,>=1.22\n",
      "  Using cached numpy-1.23.5-cp311-cp311-manylinux_2_17_x86_64.manylinux2014_x86_64.whl (17.1 MB)\n",
      "INFO: pip is looking at multiple versions of six to determine which version is compatible with other requirements. This could take a while.\n",
      "Collecting six>=1.5.2\n",
      "  Using cached six-1.16.0-py2.py3-none-any.whl (11 kB)\n",
      "INFO: This is taking longer than usual. You might need to provide the dependency resolver with stricter constraints to reduce runtime. See https://pip.pypa.io/warnings/backtracking for guidance. If you want to abort this run, press Ctrl + C.\n",
      "INFO: pip is looking at multiple versions of ml-dtypes to determine which version is compatible with other requirements. This could take a while.\n",
      "INFO: pip is looking at multiple versions of protobuf to determine which version is compatible with other requirements. This could take a while.\n",
      "Collecting protobuf>=3.6.0\n",
      "  Using cached protobuf-4.25.1-cp37-abi3-manylinux2014_x86_64.whl (294 kB)\n",
      "INFO: This is taking longer than usual. You might need to provide the dependency resolver with stricter constraints to reduce runtime. See https://pip.pypa.io/warnings/backtracking for guidance. If you want to abort this run, press Ctrl + C.\n",
      "INFO: pip is looking at multiple versions of tensorflow-serving-api to determine which version is compatible with other requirements. This could take a while.\n",
      "INFO: pip is looking at multiple versions of <Python from Requires-Python> to determine which version is compatible with other requirements. This could take a while.\n",
      "INFO: pip is looking at multiple versions of grpcio to determine which version is compatible with other requirements. This could take a while.\n",
      "\u001b[31mERROR: Cannot install grpcio==1.42.0, tensorflow, tensorflow-serving-api and tensorflow-serving-api==2.7.0 because these package versions have conflicting dependencies.\u001b[0m\u001b[31m\n",
      "\u001b[0m\n",
      "The conflict is caused by:\n",
      "    The user requested grpcio==1.42.0\n",
      "    tensorflow-serving-api 2.7.0 depends on grpcio<2 and >=1.0\n",
      "    tensorflow 2.12.0 depends on grpcio<2.0 and >=1.24.3\n",
      "    tensorboard 2.12.3 depends on grpcio>=1.48.2\n",
      "    The user requested grpcio==1.42.0\n",
      "    tensorflow-serving-api 2.7.0 depends on grpcio<2 and >=1.0\n",
      "    tensorflow 2.12.0 depends on grpcio<2.0 and >=1.24.3\n",
      "    tensorboard 2.12.2 depends on grpcio>=1.48.2\n",
      "    The user requested grpcio==1.42.0\n",
      "    tensorflow-serving-api 2.7.0 depends on grpcio<2 and >=1.0\n",
      "    tensorflow 2.12.0 depends on grpcio<2.0 and >=1.24.3\n",
      "    tensorboard 2.12.1 depends on grpcio>=1.48.2\n",
      "    The user requested grpcio==1.42.0\n",
      "    tensorflow-serving-api 2.7.0 depends on grpcio<2 and >=1.0\n",
      "    tensorflow 2.12.0 depends on grpcio<2.0 and >=1.24.3\n",
      "    tensorboard 2.12.0 depends on grpcio>=1.48.2\n",
      "\n",
      "To fix this you could try to:\n",
      "1. loosen the range of package versions you've specified\n",
      "2. remove package versions to allow pip attempt to solve the dependency conflict\n",
      "\n",
      "\u001b[31mERROR: ResolutionImpossible: for help visit https://pip.pypa.io/en/latest/topics/dependency-resolution/#dealing-with-dependency-conflicts\u001b[0m\u001b[31m\n",
      "\u001b[0m"
     ]
    }
   ],
   "source": [
    "!pip install grpcio==1.42.0 tensorflow-serving-api==2.7.0"
   ]
  },
  {
   "cell_type": "code",
   "execution_count": 2,
   "metadata": {},
   "outputs": [
    {
     "name": "stdout",
     "output_type": "stream",
     "text": [
      "Requirement already satisfied: keras-image-helper in /home/cecile/Documents/cats-classification/myenv/lib/python3.11/site-packages (0.0.1)\n",
      "Requirement already satisfied: numpy in /home/cecile/Documents/cats-classification/myenv/lib/python3.11/site-packages (from keras-image-helper) (1.26.2)\n",
      "Requirement already satisfied: pillow in /home/cecile/Documents/cats-classification/myenv/lib/python3.11/site-packages (from keras-image-helper) (10.1.0)\n"
     ]
    }
   ],
   "source": [
    "!pip install keras-image-helper"
   ]
  },
  {
   "cell_type": "code",
   "execution_count": 3,
   "metadata": {},
   "outputs": [
    {
     "name": "stderr",
     "output_type": "stream",
     "text": [
      "2023-12-19 13:55:52.231313: I external/local_tsl/tsl/cuda/cudart_stub.cc:31] Could not find cuda drivers on your machine, GPU will not be used.\n",
      "2023-12-19 13:55:52.653769: E external/local_xla/xla/stream_executor/cuda/cuda_dnn.cc:9261] Unable to register cuDNN factory: Attempting to register factory for plugin cuDNN when one has already been registered\n",
      "2023-12-19 13:55:52.654178: E external/local_xla/xla/stream_executor/cuda/cuda_fft.cc:607] Unable to register cuFFT factory: Attempting to register factory for plugin cuFFT when one has already been registered\n",
      "2023-12-19 13:55:52.736504: E external/local_xla/xla/stream_executor/cuda/cuda_blas.cc:1515] Unable to register cuBLAS factory: Attempting to register factory for plugin cuBLAS when one has already been registered\n",
      "2023-12-19 13:55:52.953634: I external/local_tsl/tsl/cuda/cudart_stub.cc:31] Could not find cuda drivers on your machine, GPU will not be used.\n",
      "2023-12-19 13:55:52.962683: I tensorflow/core/platform/cpu_feature_guard.cc:182] This TensorFlow binary is optimized to use available CPU instructions in performance-critical operations.\n",
      "To enable the following instructions: AVX2 FMA, in other operations, rebuild TensorFlow with the appropriate compiler flags.\n",
      "2023-12-19 13:55:54.966817: W tensorflow/compiler/tf2tensorrt/utils/py_utils.cc:38] TF-TRT Warning: Could not find TensorRT\n"
     ]
    }
   ],
   "source": [
    "import grpc\n",
    "import tensorflow as tf\n",
    "from tensorflow_serving.apis import predict_pb2\n",
    "from tensorflow_serving.apis import prediction_service_pb2_grpc\n",
    "from keras_image_helper import create_preprocessor"
   ]
  },
  {
   "cell_type": "code",
   "execution_count": 4,
   "metadata": {},
   "outputs": [],
   "source": [
    "host = \"localhost:8500\"\n",
    "channel = grpc.insecure_channel(host)\n",
    "stub = prediction_service_pb2_grpc.PredictionServiceStub(channel)"
   ]
  },
  {
   "cell_type": "code",
   "execution_count": 5,
   "metadata": {},
   "outputs": [],
   "source": [
    "preprocessor = create_preprocessor(\"resnet50\", target_size=(224, 224))"
   ]
  },
  {
   "cell_type": "code",
   "execution_count": 6,
   "metadata": {},
   "outputs": [],
   "source": [
    "path = \"../illustrations/guess-me.jpg\"\n",
    "x = preprocessor.from_path(path)"
   ]
  },
  {
   "cell_type": "code",
   "execution_count": 7,
   "metadata": {},
   "outputs": [],
   "source": [
    "def np_to_protobuf(data):\n",
    "    return tf.make_tensor_proto(data, shape=data.shape)"
   ]
  },
  {
   "cell_type": "code",
   "execution_count": 8,
   "metadata": {},
   "outputs": [],
   "source": [
    "pb_request = predict_pb2.PredictRequest()\n",
    "pb_request.model_spec.name = \"cats-classifier\"\n",
    "pb_request.model_spec.signature_name = \"serving_default\"\n",
    "\n",
    "pb_request.inputs[\"input_6\"].CopyFrom(np_to_protobuf(x))"
   ]
  },
  {
   "cell_type": "code",
   "execution_count": 9,
   "metadata": {},
   "outputs": [],
   "source": [
    "pb_response = stub.Predict(pb_request, timeout=20.0)"
   ]
  },
  {
   "cell_type": "code",
   "execution_count": 10,
   "metadata": {},
   "outputs": [
    {
     "data": {
      "text/plain": [
       "model_spec {\n",
       "  name: \"cats-classifier\"\n",
       "  version {\n",
       "    value: 1\n",
       "  }\n",
       "  signature_name: \"serving_default\"\n",
       "}\n",
       "outputs {\n",
       "  key: \"dense_5\"\n",
       "  value {\n",
       "    dtype: DT_FLOAT\n",
       "    tensor_shape {\n",
       "      dim {\n",
       "        size: 1\n",
       "      }\n",
       "      dim {\n",
       "        size: 20\n",
       "      }\n",
       "    }\n",
       "    float_val: 6.78086254e-09\n",
       "    float_val: 6.06849471e-06\n",
       "    float_val: 0.0137340333\n",
       "    float_val: 7.3563956e-07\n",
       "    float_val: 7.85281354e-11\n",
       "    float_val: 4.44484662e-08\n",
       "    float_val: 5.92079274e-10\n",
       "    float_val: 0.000760414638\n",
       "    float_val: 6.2603851e-09\n",
       "    float_val: 0.0597831644\n",
       "    float_val: 1.00058526e-06\n",
       "    float_val: 3.46500087e-07\n",
       "    float_val: 2.5057156e-07\n",
       "    float_val: 4.04635975e-05\n",
       "    float_val: 0.000111605688\n",
       "    float_val: 6.33200647e-09\n",
       "    float_val: 0.925525248\n",
       "    float_val: 1.71383803e-07\n",
       "    float_val: 4.12557974e-11\n",
       "    float_val: 3.64106563e-05\n",
       "  }\n",
       "}"
      ]
     },
     "execution_count": 10,
     "metadata": {},
     "output_type": "execute_result"
    }
   ],
   "source": [
    "pb_response"
   ]
  },
  {
   "cell_type": "code",
   "execution_count": 11,
   "metadata": {},
   "outputs": [],
   "source": [
    "preds = pb_response.outputs[\"dense_5\"].float_val"
   ]
  },
  {
   "cell_type": "code",
   "execution_count": 12,
   "metadata": {},
   "outputs": [
    {
     "data": {
      "text/plain": [
       "{'Ragdoll': 6.780862538136034e-09,\n",
       " 'Bombay': 6.068494712963002e-06,\n",
       " 'American Curl': 0.013734033331274986,\n",
       " 'Birman': 7.356395599344978e-07,\n",
       " 'Egyptian Mau': 7.852813538322678e-11,\n",
       " 'Bengal': 4.444846624096499e-08,\n",
       " 'Siamese': 5.920792744973369e-10,\n",
       " 'Maine Coon': 0.0007604146376252174,\n",
       " 'American Bobtail': 6.260385099210453e-09,\n",
       " 'Turkish Angora': 0.05978316441178322,\n",
       " 'Russian Blue': 1.0005852573158336e-06,\n",
       " 'British Shorthair': 3.4650008728931425e-07,\n",
       " 'Persian': 2.505715599454561e-07,\n",
       " 'Abyssinian': 4.0463597542839125e-05,\n",
       " 'Norwegian Forest': 0.00011160568828927353,\n",
       " 'Manx': 6.332006474707441e-09,\n",
       " 'Scottish Fold': 0.9255252480506897,\n",
       " 'American Shorthair': 1.7138380314918322e-07,\n",
       " 'Exotic Shorthair': 4.1255797389450066e-11,\n",
       " 'Sphynx': 3.64106563210953e-05}"
      ]
     },
     "execution_count": 12,
     "metadata": {},
     "output_type": "execute_result"
    }
   ],
   "source": [
    "classes = [\n",
    "    \"Ragdoll\",\n",
    "    \"Bombay\",\n",
    "    \"American Curl\",\n",
    "    \"Birman\",\n",
    "    \"Egyptian Mau\",\n",
    "    \"Bengal\",\n",
    "    \"Siamese\",\n",
    "    \"Maine Coon\",\n",
    "    \"American Bobtail\",\n",
    "    \"Turkish Angora\",\n",
    "    \"Russian Blue\",\n",
    "    \"British Shorthair\",\n",
    "    \"Persian\",\n",
    "    \"Abyssinian\",\n",
    "    \"Norwegian Forest\",\n",
    "    \"Manx\",\n",
    "    \"Scottish Fold\",\n",
    "    \"American Shorthair\",\n",
    "    \"Exotic Shorthair\",\n",
    "    \"Sphynx\",\n",
    "]\n",
    "\n",
    "dict(zip(classes, preds))"
   ]
  }
 ],
 "metadata": {
  "kernelspec": {
   "display_name": "myenv",
   "language": "python",
   "name": "python3"
  },
  "language_info": {
   "codemirror_mode": {
    "name": "ipython",
    "version": 3
   },
   "file_extension": ".py",
   "mimetype": "text/x-python",
   "name": "python",
   "nbconvert_exporter": "python",
   "pygments_lexer": "ipython3",
   "version": "3.11.2"
  }
 },
 "nbformat": 4,
 "nbformat_minor": 2
}
